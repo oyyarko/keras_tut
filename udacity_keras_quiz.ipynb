{
  "nbformat": 4,
  "nbformat_minor": 0,
  "metadata": {
    "colab": {
      "name": "Untitled6.ipynb",
      "provenance": []
    },
    "kernelspec": {
      "name": "python3",
      "display_name": "Python 3"
    },
    "accelerator": "GPU"
  },
  "cells": [
    {
      "cell_type": "code",
      "metadata": {
        "id": "AmBOvzyhvvxG",
        "colab_type": "code",
        "colab": {}
      },
      "source": [
        "import numpy as np\n",
        "from keras.utils import np_utils\n",
        "import tensorflow as tf\n",
        "tf.python.control_flow_ops = tf"
      ],
      "execution_count": 0,
      "outputs": []
    },
    {
      "cell_type": "code",
      "metadata": {
        "id": "oWiM2jOewpUO",
        "colab_type": "code",
        "colab": {}
      },
      "source": [
        "np.random.seed(42)"
      ],
      "execution_count": 0,
      "outputs": []
    },
    {
      "cell_type": "code",
      "metadata": {
        "id": "2Fzpo3Hkwten",
        "colab_type": "code",
        "colab": {}
      },
      "source": [
        "X = np.array([[0,0], [0,1],[1,0],[1,1]]).astype('float32')\n",
        "y = np.array([[0], [1], [1], [0]]).astype('float32')"
      ],
      "execution_count": 0,
      "outputs": []
    },
    {
      "cell_type": "code",
      "metadata": {
        "id": "9svc1q1pw9Ym",
        "colab_type": "code",
        "colab": {}
      },
      "source": [
        "#setup for keras\n",
        "from keras.models import Sequential\n",
        "from keras.layers import Dense, Activation"
      ],
      "execution_count": 0,
      "outputs": []
    },
    {
      "cell_type": "code",
      "metadata": {
        "id": "Qoif4uNfxHiG",
        "colab_type": "code",
        "colab": {}
      },
      "source": [
        "#one-hot encoding the output\n",
        "y = np_utils.to_categorical(y)"
      ],
      "execution_count": 0,
      "outputs": []
    },
    {
      "cell_type": "code",
      "metadata": {
        "id": "wjXseXdpxNfA",
        "colab_type": "code",
        "colab": {}
      },
      "source": [
        "#building the model\n",
        "xor = Sequential()"
      ],
      "execution_count": 0,
      "outputs": []
    },
    {
      "cell_type": "code",
      "metadata": {
        "id": "goSrD3EJxRBW",
        "colab_type": "code",
        "colab": {}
      },
      "source": [
        "xor.add(Dense(32, input_dim=2))"
      ],
      "execution_count": 0,
      "outputs": []
    },
    {
      "cell_type": "code",
      "metadata": {
        "id": "VrxpKnIUxhs3",
        "colab_type": "code",
        "colab": {}
      },
      "source": [
        "xor.add(Activation('tanh'))"
      ],
      "execution_count": 0,
      "outputs": []
    },
    {
      "cell_type": "code",
      "metadata": {
        "id": "YbCsTzGDyEQp",
        "colab_type": "code",
        "colab": {}
      },
      "source": [
        "xor.add(Dense(2))"
      ],
      "execution_count": 0,
      "outputs": []
    },
    {
      "cell_type": "code",
      "metadata": {
        "id": "3i4gNWNmyIJl",
        "colab_type": "code",
        "colab": {}
      },
      "source": [
        "xor.add(Activation('sigmoid'))"
      ],
      "execution_count": 0,
      "outputs": []
    },
    {
      "cell_type": "code",
      "metadata": {
        "id": "u_e6lNoKxlGT",
        "colab_type": "code",
        "colab": {}
      },
      "source": [
        "xor.compile(loss=\"binary_crossentropy\", optimizer=\"adam\", metrics=[\"accuracy\"])"
      ],
      "execution_count": 0,
      "outputs": []
    },
    {
      "cell_type": "code",
      "metadata": {
        "id": "GuIyA8TtxvyN",
        "colab_type": "code",
        "colab": {
          "base_uri": "https://localhost:8080/",
          "height": 349
        },
        "outputId": "e80994d3-04b1-45c0-e24f-68f65546feb3"
      },
      "source": [
        "xor.summary()"
      ],
      "execution_count": 18,
      "outputs": [
        {
          "output_type": "stream",
          "text": [
            "Model: \"sequential_1\"\n",
            "_________________________________________________________________\n",
            "Layer (type)                 Output Shape              Param #   \n",
            "=================================================================\n",
            "dense_1 (Dense)              (None, 8)                 24        \n",
            "_________________________________________________________________\n",
            "activation_1 (Activation)    (None, 8)                 0         \n",
            "_________________________________________________________________\n",
            "dense_2 (Dense)              (None, 32)                288       \n",
            "_________________________________________________________________\n",
            "dense_3 (Dense)              (None, 2)                 66        \n",
            "_________________________________________________________________\n",
            "activation_2 (Activation)    (None, 2)                 0         \n",
            "=================================================================\n",
            "Total params: 378\n",
            "Trainable params: 378\n",
            "Non-trainable params: 0\n",
            "_________________________________________________________________\n"
          ],
          "name": "stdout"
        }
      ]
    },
    {
      "cell_type": "code",
      "metadata": {
        "id": "uRF6gBmqx00A",
        "colab_type": "code",
        "colab": {}
      },
      "source": [
        "history = xor.fit(X, y, epochs=1000, verbose=0)"
      ],
      "execution_count": 0,
      "outputs": []
    },
    {
      "cell_type": "code",
      "metadata": {
        "id": "EfK1mLL1x9Iw",
        "colab_type": "code",
        "colab": {
          "base_uri": "https://localhost:8080/",
          "height": 35
        },
        "outputId": "917c7a36-6327-4d0d-ef45-b16ef899d555"
      },
      "source": [
        "score = xor.evaluate(X, y)"
      ],
      "execution_count": 21,
      "outputs": [
        {
          "output_type": "stream",
          "text": [
            "\r4/4 [==============================] - 0s 10ms/step\n"
          ],
          "name": "stdout"
        }
      ]
    },
    {
      "cell_type": "code",
      "metadata": {
        "id": "-FBPetsTyWTQ",
        "colab_type": "code",
        "colab": {
          "base_uri": "https://localhost:8080/",
          "height": 54
        },
        "outputId": "74f9876d-bf04-4fca-d4f3-0fa438192c06"
      },
      "source": [
        "print(\"\\nAccuracy: \", score[-1])"
      ],
      "execution_count": 22,
      "outputs": [
        {
          "output_type": "stream",
          "text": [
            "\n",
            "Accuracy:  1.0\n"
          ],
          "name": "stdout"
        }
      ]
    },
    {
      "cell_type": "code",
      "metadata": {
        "id": "Z3DWRBXtya9Z",
        "colab_type": "code",
        "colab": {
          "base_uri": "https://localhost:8080/",
          "height": 128
        },
        "outputId": "223566dd-c31c-4dd0-9b69-ae2b89e39e39"
      },
      "source": [
        "print(\"\\nPredications:\")\n",
        "print(xor.predict_proba(X))"
      ],
      "execution_count": 23,
      "outputs": [
        {
          "output_type": "stream",
          "text": [
            "\n",
            "Predications:\n",
            "[[9.9916172e-01 7.4225664e-04]\n",
            " [1.0435283e-03 9.9915707e-01]\n",
            " [9.6851587e-04 9.9908149e-01]\n",
            " [9.9886411e-01 1.0000765e-03]]\n"
          ],
          "name": "stdout"
        }
      ]
    },
    {
      "cell_type": "code",
      "metadata": {
        "id": "Df5W-JEMyheA",
        "colab_type": "code",
        "colab": {}
      },
      "source": [
        ""
      ],
      "execution_count": 0,
      "outputs": []
    },
    {
      "cell_type": "code",
      "metadata": {
        "id": "z9vA1AWwxV1k",
        "colab_type": "code",
        "colab": {}
      },
      "source": [
        ""
      ],
      "execution_count": 0,
      "outputs": []
    }
  ]
}