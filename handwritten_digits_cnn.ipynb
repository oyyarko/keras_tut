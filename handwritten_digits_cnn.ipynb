{
  "nbformat": 4,
  "nbformat_minor": 0,
  "metadata": {
    "colab": {
      "name": "handwritten_digits_cnn.ipynb",
      "provenance": [],
      "include_colab_link": true
    },
    "kernelspec": {
      "name": "python3",
      "display_name": "Python 3"
    },
    "accelerator": "GPU"
  },
  "cells": [
    {
      "cell_type": "markdown",
      "metadata": {
        "id": "view-in-github",
        "colab_type": "text"
      },
      "source": [
        "<a href=\"https://colab.research.google.com/github/oyyarko/keras_tut/blob/master/handwritten_digits_cnn.ipynb\" target=\"_parent\"><img src=\"https://colab.research.google.com/assets/colab-badge.svg\" alt=\"Open In Colab\"/></a>"
      ]
    },
    {
      "cell_type": "markdown",
      "metadata": {
        "id": "j2sC8uteBmUz",
        "colab_type": "text"
      },
      "source": [
        "#Step 1\n",
        "Import required libraries (Keras, numpy)\n",
        "\n",
        "Load the database"
      ]
    },
    {
      "cell_type": "code",
      "metadata": {
        "id": "x7yoFWqmBW6j",
        "colab_type": "code",
        "colab": {}
      },
      "source": [
        "from keras.models import Sequential\n",
        "from keras.layers import Activation, Dropout, Dense, Flatten, Conv2D, MaxPooling2D\n",
        "from keras.datasets import mnist\n",
        "import numpy as np"
      ],
      "execution_count": 0,
      "outputs": []
    },
    {
      "cell_type": "markdown",
      "metadata": {
        "id": "qfMgusY7CUwq",
        "colab_type": "text"
      },
      "source": [
        "#Step 2\n",
        "Split data into Training and Testing sets\n",
        "\n",
        "Assign values to epoch, batch_size, verbose, classes(Optional)"
      ]
    },
    {
      "cell_type": "code",
      "metadata": {
        "id": "BYYdNHg1CSuj",
        "colab_type": "code",
        "colab": {}
      },
      "source": [
        "batch_size = 128\n",
        "epochs = 12\n",
        "num_classes = 10\n",
        "\n",
        "(x_train, y_train), (x_test, y_test) = mnist.load_data() #we splitted data here"
      ],
      "execution_count": 0,
      "outputs": []
    },
    {
      "cell_type": "code",
      "metadata": {
        "id": "ZQaZ6wJCC62b",
        "colab_type": "code",
        "colab": {
          "base_uri": "https://localhost:8080/",
          "height": 52
        },
        "outputId": "612244b1-00ea-4441-9f11-2120bb70a48a"
      },
      "source": [
        "print(x_train.shape)\n",
        "print(x_test.shape)"
      ],
      "execution_count": 10,
      "outputs": [
        {
          "output_type": "stream",
          "text": [
            "(60000, 28, 28)\n",
            "(10000, 28, 28)\n"
          ],
          "name": "stdout"
        }
      ]
    },
    {
      "cell_type": "markdown",
      "metadata": {
        "id": "wmqPaBNmDglD",
        "colab_type": "text"
      },
      "source": [
        "#Step 3\n",
        "Visualize initial data from the dataset using matplotlib"
      ]
    },
    {
      "cell_type": "code",
      "metadata": {
        "id": "Vx-I-N8FC_Bg",
        "colab_type": "code",
        "colab": {}
      },
      "source": [
        "import matplotlib.pyplot as plt\n",
        "%matplotlib inline"
      ],
      "execution_count": 0,
      "outputs": []
    },
    {
      "cell_type": "code",
      "metadata": {
        "id": "mom9jpy_Dp7v",
        "colab_type": "code",
        "colab": {
          "base_uri": "https://localhost:8080/",
          "height": 82
        },
        "outputId": "08848a8d-00b9-4432-9fb0-399b6671cfd8"
      },
      "source": [
        "fig = plt.figure(figsize=(10, 20))\n",
        "for i in range(10):\n",
        "    ax = fig.add_subplot(1, 10, i+1, xticks=[], yticks=[])\n",
        "    ax.imshow(x_train[i])\n",
        "    "
      ],
      "execution_count": 19,
      "outputs": [
        {
          "output_type": "display_data",
          "data": {
            "image/png": "[encoded data removed]",
            "text/plain": [
              "<Figure size 720x1440 with 10 Axes>"
            ]
          },
          "metadata": {
            "tags": []
          }
        }
      ]
    },
    {
      "cell_type": "markdown",
      "metadata": {
        "id": "LTOHzhdkFONL",
        "colab_type": "text"
      },
      "source": [
        "#Step 4\n",
        "Convert Vector integers to binary metrices\n",
        "\n",
        "Called One-hot Encoding"
      ]
    },
    {
      "cell_type": "code",
      "metadata": {
        "id": "r0Dl-PxdEcu6",
        "colab_type": "code",
        "colab": {}
      },
      "source": [
        "import keras\n",
        "\n",
        "y_train = keras.utils.to_categorical(y_train, num_classes)\n",
        "y_test = keras.utils.to_categorical(y_test, num_classes)"
      ],
      "execution_count": 0,
      "outputs": []
    },
    {
      "cell_type": "markdown",
      "metadata": {
        "id": "F-4QHXktF9oh",
        "colab_type": "text"
      },
      "source": [
        "#Step 5\n",
        "Create our Model"
      ]
    },
    {
      "cell_type": "code",
      "metadata": {
        "id": "BGJNJ1lGFoC3",
        "colab_type": "code",
        "colab": {
          "base_uri": "https://localhost:8080/",
          "height": 569
        },
        "outputId": "b371390b-6498-46bb-bc55-9dd98bddfaec"
      },
      "source": [
        "model = Sequential()\n",
        "model.add(Flatten(input_shape=x_train.shape[1:]))\n",
        "model.add(Dense(512, activation='relu'))\n",
        "model.add(Dropout(0.2))\n",
        "model.add(Dense(512, activation='relu'))\n",
        "model.add(Dropout(0.8))\n",
        "model.add(Dense(num_classes, activation='softmax'))\n",
        "\n",
        "model.summary()"
      ],
      "execution_count": 25,
      "outputs": [
        {
          "output_type": "stream",
          "text": [
            "WARNING:tensorflow:From /usr/local/lib/python3.6/dist-packages/keras/backend/tensorflow_backend.py:541: The name tf.placeholder is deprecated. Please use tf.compat.v1.placeholder instead.\n",
            "\n",
            "WARNING:tensorflow:From /usr/local/lib/python3.6/dist-packages/keras/backend/tensorflow_backend.py:4432: The name tf.random_uniform is deprecated. Please use tf.random.uniform instead.\n",
            "\n",
            "WARNING:tensorflow:From /usr/local/lib/python3.6/dist-packages/keras/backend/tensorflow_backend.py:148: The name tf.placeholder_with_default is deprecated. Please use tf.compat.v1.placeholder_with_default instead.\n",
            "\n",
            "WARNING:tensorflow:From /usr/local/lib/python3.6/dist-packages/keras/backend/tensorflow_backend.py:3733: calling dropout (from tensorflow.python.ops.nn_ops) with keep_prob is deprecated and will be removed in a future version.\n",
            "Instructions for updating:\n",
            "Please use `rate` instead of `keep_prob`. Rate should be set to `rate = 1 - keep_prob`.\n",
            "WARNING:tensorflow:Large dropout rate: 0.8 (>0.5). In TensorFlow 2.x, dropout() uses dropout rate instead of keep_prob. Please ensure that this is intended.\n",
            "Model: \"sequential_3\"\n",
            "_________________________________________________________________\n",
            "Layer (type)                 Output Shape              Param #   \n",
            "=================================================================\n",
            "flatten_3 (Flatten)          (None, 784)               0         \n",
            "_________________________________________________________________\n",
            "dense_7 (Dense)              (None, 512)               401920    \n",
            "_________________________________________________________________\n",
            "dropout_5 (Dropout)          (None, 512)               0         \n",
            "_________________________________________________________________\n",
            "dense_8 (Dense)              (None, 512)               262656    \n",
            "_________________________________________________________________\n",
            "dropout_6 (Dropout)          (None, 512)               0         \n",
            "_________________________________________________________________\n",
            "dense_9 (Dense)              (None, 10)                5130      \n",
            "=================================================================\n",
            "Total params: 669,706\n",
            "Trainable params: 669,706\n",
            "Non-trainable params: 0\n",
            "_________________________________________________________________\n"
          ],
          "name": "stdout"
        }
      ]
    },
    {
      "cell_type": "markdown",
      "metadata": {
        "id": "Iesnu07ZGkWL",
        "colab_type": "text"
      },
      "source": [
        "#Step 6\n",
        "Compile our model"
      ]
    },
    {
      "cell_type": "code",
      "metadata": {
        "id": "qLCytbNLGivV",
        "colab_type": "code",
        "colab": {
          "base_uri": "https://localhost:8080/",
          "height": 108
        },
        "outputId": "6c2f5c00-7fc6-45c9-e5ec-2f637ec7b12f"
      },
      "source": [
        "model.compile(loss='categorical_crossentropy', optimizer='rmsprop', metrics=['accuracy'])"
      ],
      "execution_count": 26,
      "outputs": [
        {
          "output_type": "stream",
          "text": [
            "WARNING:tensorflow:From /usr/local/lib/python3.6/dist-packages/keras/optimizers.py:793: The name tf.train.Optimizer is deprecated. Please use tf.compat.v1.train.Optimizer instead.\n",
            "\n",
            "WARNING:tensorflow:From /usr/local/lib/python3.6/dist-packages/keras/backend/tensorflow_backend.py:3576: The name tf.log is deprecated. Please use tf.math.log instead.\n",
            "\n"
          ],
          "name": "stdout"
        }
      ]
    },
    {
      "cell_type": "markdown",
      "metadata": {
        "id": "FZ-H16mzHWfy",
        "colab_type": "text"
      },
      "source": [
        "#Step 7\n",
        "Fit our model"
      ]
    },
    {
      "cell_type": "code",
      "metadata": {
        "id": "FBzSu1eRHOPB",
        "colab_type": "code",
        "colab": {
          "base_uri": "https://localhost:8080/",
          "height": 853
        },
        "outputId": "d14eca14-8f66-4621-f869-538846b70044"
      },
      "source": [
        "model.fit(x_train, y_train, batch_size=batch_size, epochs=epochs, verbose=1, validation_data=(x_test, y_test))\n",
        "score = model.evaluate(x_test, y_test, verbose=0)\n",
        "\n",
        "print(\"Test Loss: \", score[0])\n",
        "print(\"Test Accuracy: \", score[1])"
      ],
      "execution_count": 28,
      "outputs": [
        {
          "output_type": "stream",
          "text": [
            "WARNING:tensorflow:From /usr/local/lib/python3.6/dist-packages/tensorflow_core/python/ops/math_grad.py:1424: where (from tensorflow.python.ops.array_ops) is deprecated and will be removed in a future version.\n",
            "Instructions for updating:\n",
            "Use tf.where in 2.0, which has the same broadcast rule as np.where\n",
            "WARNING:tensorflow:From /usr/local/lib/python3.6/dist-packages/keras/backend/tensorflow_backend.py:1033: The name tf.assign_add is deprecated. Please use tf.compat.v1.assign_add instead.\n",
            "\n",
            "WARNING:tensorflow:From /usr/local/lib/python3.6/dist-packages/keras/backend/tensorflow_backend.py:1020: The name tf.assign is deprecated. Please use tf.compat.v1.assign instead.\n",
            "\n",
            "WARNING:tensorflow:From /usr/local/lib/python3.6/dist-packages/keras/backend/tensorflow_backend.py:3005: The name tf.Session is deprecated. Please use tf.compat.v1.Session instead.\n",
            "\n",
            "Train on 60000 samples, validate on 10000 samples\n",
            "Epoch 1/12\n",
            "WARNING:tensorflow:From /usr/local/lib/python3.6/dist-packages/keras/backend/tensorflow_backend.py:190: The name tf.get_default_session is deprecated. Please use tf.compat.v1.get_default_session instead.\n",
            "\n",
            "WARNING:tensorflow:From /usr/local/lib/python3.6/dist-packages/keras/backend/tensorflow_backend.py:197: The name tf.ConfigProto is deprecated. Please use tf.compat.v1.ConfigProto instead.\n",
            "\n",
            "WARNING:tensorflow:From /usr/local/lib/python3.6/dist-packages/keras/backend/tensorflow_backend.py:207: The name tf.global_variables is deprecated. Please use tf.compat.v1.global_variables instead.\n",
            "\n",
            "WARNING:tensorflow:From /usr/local/lib/python3.6/dist-packages/keras/backend/tensorflow_backend.py:216: The name tf.is_variable_initialized is deprecated. Please use tf.compat.v1.is_variable_initialized instead.\n",
            "\n",
            "WARNING:tensorflow:From /usr/local/lib/python3.6/dist-packages/keras/backend/tensorflow_backend.py:223: The name tf.variables_initializer is deprecated. Please use tf.compat.v1.variables_initializer instead.\n",
            "\n",
            "60000/60000 [==============================] - 11s 185us/step - loss: 11.1103 - acc: 0.3079 - val_loss: 8.9012 - val_acc: 0.4467\n",
            "Epoch 2/12\n",
            "60000/60000 [==============================] - 2s 28us/step - loss: 8.0682 - acc: 0.4974 - val_loss: 6.0458 - val_acc: 0.6239\n",
            "Epoch 3/12\n",
            "60000/60000 [==============================] - 2s 27us/step - loss: 6.8351 - acc: 0.5743 - val_loss: 5.7780 - val_acc: 0.6407\n",
            "Epoch 4/12\n",
            "60000/60000 [==============================] - 2s 28us/step - loss: 6.3981 - acc: 0.6011 - val_loss: 5.6212 - val_acc: 0.6506\n",
            "Epoch 5/12\n",
            "60000/60000 [==============================] - 2s 28us/step - loss: 5.9880 - acc: 0.6263 - val_loss: 4.3955 - val_acc: 0.7249\n",
            "Epoch 6/12\n",
            "60000/60000 [==============================] - 2s 28us/step - loss: 4.9348 - acc: 0.6915 - val_loss: 3.5155 - val_acc: 0.7806\n",
            "Epoch 7/12\n",
            "60000/60000 [==============================] - 2s 28us/step - loss: 4.5057 - acc: 0.7186 - val_loss: 3.3680 - val_acc: 0.7896\n",
            "Epoch 8/12\n",
            "60000/60000 [==============================] - 2s 28us/step - loss: 4.2310 - acc: 0.7359 - val_loss: 3.1856 - val_acc: 0.8014\n",
            "Epoch 9/12\n",
            "60000/60000 [==============================] - 2s 27us/step - loss: 4.0284 - acc: 0.7484 - val_loss: 2.1806 - val_acc: 0.8633\n",
            "Epoch 10/12\n",
            "60000/60000 [==============================] - 2s 27us/step - loss: 3.3068 - acc: 0.7930 - val_loss: 1.7732 - val_acc: 0.8886\n",
            "Epoch 11/12\n",
            "60000/60000 [==============================] - 2s 27us/step - loss: 2.7231 - acc: 0.8293 - val_loss: 1.7697 - val_acc: 0.8894\n",
            "Epoch 12/12\n",
            "60000/60000 [==============================] - 2s 28us/step - loss: 2.6106 - acc: 0.8366 - val_loss: 1.7935 - val_acc: 0.8878\n",
            "Test Loss:  1.7935278331756592\n",
            "Test Accuracy:  0.8878\n"
          ],
          "name": "stdout"
        }
      ]
    },
    {
      "cell_type": "code",
      "metadata": {
        "id": "TvLnfwagIE5B",
        "colab_type": "code",
        "colab": {}
      },
      "source": [
        ""
      ],
      "execution_count": 0,
      "outputs": []
    }
  ]
}