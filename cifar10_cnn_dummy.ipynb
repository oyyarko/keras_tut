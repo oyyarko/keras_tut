{
  "nbformat": 4,
  "nbformat_minor": 0,
  "metadata": {
    "colab": {
      "name": "cifar10_cnn.ipynb",
      "provenance": [],
      "authorship_tag": "ABX9TyOldYNugJxs6zxRVr/Xu01Q",
      "include_colab_link": true
    },
    "kernelspec": {
      "name": "python3",
      "display_name": "Python 3"
    },
    "accelerator": "GPU"
  },
  "cells": [
    {
      "cell_type": "markdown",
      "metadata": {
        "id": "view-in-github",
        "colab_type": "text"
      },
      "source": [
        "<a href=\"https://colab.research.google.com/github/oyyarko/keras_tut/blob/master/cifar10_cnn_dummy.ipynb\" target=\"_parent\"><img src=\"https://colab.research.google.com/assets/colab-badge.svg\" alt=\"Open In Colab\"/></a>"
      ]
    },
    {
      "cell_type": "code",
      "metadata": {
        "id": "VumFPzH4j4b6",
        "colab_type": "code",
        "colab": {}
      },
      "source": [
        "#1. import libraries\n",
        "#2. load dataset\n",
        "#3. Split dataset\n",
        "#4. convert images into vector\n",
        "#5. perform one hot encoding\n",
        "#6. define model\n",
        "#7. compile model\n",
        "#8. fit model\n",
        "#9. evalaute model"
      ],
      "execution_count": 0,
      "outputs": []
    },
    {
      "cell_type": "markdown",
      "metadata": {
        "id": "48zFRVKzkb9T",
        "colab_type": "text"
      },
      "source": [
        "#1. import libraries"
      ]
    },
    {
      "cell_type": "code",
      "metadata": {
        "id": "Bx3WrJ5YkZLK",
        "colab_type": "code",
        "colab": {
          "base_uri": "https://localhost:8080/",
          "height": 81
        },
        "outputId": "c83187d3-8295-4357-f010-3dcd248fc348"
      },
      "source": [
        "from tensorflow.python.keras.datasets import cifar10\n",
        "from tensorflow.python.keras.models import Sequential\n",
        "from tensorflow.python.keras.layers import Dense, Flatten, Dropout\n",
        "from tensorflow.python.keras.layers import Conv2D, MaxPooling2D\n",
        "from tensorflow.python.keras.utils import to_categorical\n",
        "from tensorflow.python.keras.optimizers import SGD\n",
        "from tensorflow.python.keras.constraints import maxnorm\n",
        "import matplotlib.pyplot as plt\n",
        "%matplotlib inline"
      ],
      "execution_count": 2,
      "outputs": [
        {
          "output_type": "display_data",
          "data": {
            "text/html": [
              "<p style=\"color: red;\">\n",
              "The default version of TensorFlow in Colab will soon switch to TensorFlow 2.x.<br>\n",
              "We recommend you <a href=\"https://www.tensorflow.org/guide/migrate\" target=\"_blank\">upgrade</a> now \n",
              "or ensure your notebook will continue to use TensorFlow 1.x via the <code>%tensorflow_version 1.x</code> magic:\n",
              "<a href=\"https://colab.research.google.com/notebooks/tensorflow_version.ipynb\" target=\"_blank\">more info</a>.</p>\n"
            ],
            "text/plain": [
              "<IPython.core.display.HTML object>"
            ]
          },
          "metadata": {
            "tags": []
          }
        }
      ]
    },
    {
      "cell_type": "markdown",
      "metadata": {
        "id": "dgP2GjPFlGtx",
        "colab_type": "text"
      },
      "source": [
        "#2. load dataset\n",
        "#3. split dataset"
      ]
    },
    {
      "cell_type": "code",
      "metadata": {
        "id": "AHgSfemolF0L",
        "colab_type": "code",
        "colab": {
          "base_uri": "https://localhost:8080/",
          "height": 52
        },
        "outputId": "faf3cb7e-f41c-4d9e-c4ce-855bd8dcf14d"
      },
      "source": [
        "(x_train, y_train), (x_test, y_test) = cifar10.load_data()\n",
        "print(\"X train: \", x_train.shape)\n",
        "print(\"X test: \", x_test.shape)"
      ],
      "execution_count": 3,
      "outputs": [
        {
          "output_type": "stream",
          "text": [
            "X train:  (50000, 32, 32, 3)\n",
            "X test:  (10000, 32, 32, 3)\n"
          ],
          "name": "stdout"
        }
      ]
    },
    {
      "cell_type": "markdown",
      "metadata": {
        "id": "R0a4tgmhlcg_",
        "colab_type": "text"
      },
      "source": [
        "#4. convert or normalize"
      ]
    },
    {
      "cell_type": "code",
      "metadata": {
        "id": "7PV1MOxllXyt",
        "colab_type": "code",
        "colab": {}
      },
      "source": [
        "x_train = x_train.astype('float32')\n",
        "x_test = x_test.astype('float32')"
      ],
      "execution_count": 0,
      "outputs": []
    },
    {
      "cell_type": "markdown",
      "metadata": {
        "id": "ZlggR5U3lt5k",
        "colab_type": "text"
      },
      "source": [
        "#5. perform one hot encoding"
      ]
    },
    {
      "cell_type": "code",
      "metadata": {
        "id": "NrfzzJ6kltAd",
        "colab_type": "code",
        "colab": {}
      },
      "source": [
        "y_train = to_categorical(y_train)\n",
        "y_test = to_categorical(y_test)"
      ],
      "execution_count": 0,
      "outputs": []
    },
    {
      "cell_type": "code",
      "metadata": {
        "id": "B36nIsspl8kt",
        "colab_type": "code",
        "colab": {
          "base_uri": "https://localhost:8080/",
          "height": 34
        },
        "outputId": "173641ec-2b66-4a48-fe47-240b31efaade"
      },
      "source": [
        "num_classes = y_test.shape[1]\n",
        "print(num_classes)"
      ],
      "execution_count": 6,
      "outputs": [
        {
          "output_type": "stream",
          "text": [
            "10\n"
          ],
          "name": "stdout"
        }
      ]
    },
    {
      "cell_type": "markdown",
      "metadata": {
        "id": "fItNQaN_mHdb",
        "colab_type": "text"
      },
      "source": [
        "#6. define model"
      ]
    },
    {
      "cell_type": "code",
      "metadata": {
        "id": "pOxUX_3cmFMt",
        "colab_type": "code",
        "colab": {
          "base_uri": "https://localhost:8080/",
          "height": 89
        },
        "outputId": "e5ff01ca-3000-4ed5-991c-ebe3f5b3dbb6"
      },
      "source": [
        "model = Sequential()\n",
        "model.add(Conv2D(32, (3, 3), padding='same', activation='relu', input_shape=(32, 32, 3))) #3 for rgb\n",
        "model.add(Dropout(0.2))\n",
        "model.add(Conv2D(32, (3, 3), padding='same', activation='relu'))\n",
        "model.add(MaxPooling2D())\n",
        "model.add(Conv2D(64, (3, 3), padding='same', activation='relu'))\n",
        "model.add(Dropout(0.2))\n",
        "model.add(Conv2D(64, (3, 3), padding='same', activation='relu'))\n",
        "model.add(MaxPooling2D())\n",
        "model.add(Conv2D(128, (3, 3), padding='same', activation='relu'))\n",
        "model.add(Dropout(0.2))\n",
        "model.add(Conv2D(128, (3, 3), padding='same', activation='relu'))\n",
        "model.add(MaxPooling2D())\n",
        "model.add(Flatten())\n",
        "model.add(Dropout(0.2))\n",
        "model.add(Dense(1024, activation='relu', kernel_constraint=maxnorm(3))) #32*32 = 1024\n",
        "model.add(Dropout(0.2))\n",
        "model.add(Dense(512, activation='relu', kernel_constraint=maxnorm(3))) #1024/2 = 512\n",
        "model.add(Dropout(0.2))\n",
        "model.add(Dense(num_classes, activation='softmax'))"
      ],
      "execution_count": 7,
      "outputs": [
        {
          "output_type": "stream",
          "text": [
            "WARNING:tensorflow:From /usr/local/lib/python3.6/dist-packages/tensorflow_core/python/ops/resource_variable_ops.py:1630: calling BaseResourceVariable.__init__ (from tensorflow.python.ops.resource_variable_ops) with constraint is deprecated and will be removed in a future version.\n",
            "Instructions for updating:\n",
            "If using Keras pass *_constraint arguments to layers.\n"
          ],
          "name": "stdout"
        }
      ]
    },
    {
      "cell_type": "markdown",
      "metadata": {
        "id": "DDbOyM_ToLsX",
        "colab_type": "text"
      },
      "source": [
        "#7. compile model"
      ]
    },
    {
      "cell_type": "code",
      "metadata": {
        "id": "xYknyrD1ntlA",
        "colab_type": "code",
        "colab": {
          "base_uri": "https://localhost:8080/",
          "height": 816
        },
        "outputId": "c3396d6a-94aa-4bd6-dad1-3eccd9ece408"
      },
      "source": [
        "epochs = 25\n",
        "lrate = 0.01\n",
        "decay = lrate/epochs\n",
        "sgd = SGD(lr=lrate, momentum=0.9, decay=decay, nesterov=False)\n",
        "model.compile(loss='categorical_crossentropy', optimizer=sgd, metrics=['accuracy'])\n",
        "model.summary()"
      ],
      "execution_count": 8,
      "outputs": [
        {
          "output_type": "stream",
          "text": [
            "Model: \"sequential\"\n",
            "_________________________________________________________________\n",
            "Layer (type)                 Output Shape              Param #   \n",
            "=================================================================\n",
            "conv2d (Conv2D)              (None, 32, 32, 32)        896       \n",
            "_________________________________________________________________\n",
            "dropout (Dropout)            (None, 32, 32, 32)        0         \n",
            "_________________________________________________________________\n",
            "conv2d_1 (Conv2D)            (None, 32, 32, 32)        9248      \n",
            "_________________________________________________________________\n",
            "max_pooling2d (MaxPooling2D) (None, 16, 16, 32)        0         \n",
            "_________________________________________________________________\n",
            "conv2d_2 (Conv2D)            (None, 16, 16, 64)        18496     \n",
            "_________________________________________________________________\n",
            "dropout_1 (Dropout)          (None, 16, 16, 64)        0         \n",
            "_________________________________________________________________\n",
            "conv2d_3 (Conv2D)            (None, 16, 16, 64)        36928     \n",
            "_________________________________________________________________\n",
            "max_pooling2d_1 (MaxPooling2 (None, 8, 8, 64)          0         \n",
            "_________________________________________________________________\n",
            "conv2d_4 (Conv2D)            (None, 8, 8, 128)         73856     \n",
            "_________________________________________________________________\n",
            "dropout_2 (Dropout)          (None, 8, 8, 128)         0         \n",
            "_________________________________________________________________\n",
            "conv2d_5 (Conv2D)            (None, 8, 8, 128)         147584    \n",
            "_________________________________________________________________\n",
            "max_pooling2d_2 (MaxPooling2 (None, 4, 4, 128)         0         \n",
            "_________________________________________________________________\n",
            "flatten (Flatten)            (None, 2048)              0         \n",
            "_________________________________________________________________\n",
            "dropout_3 (Dropout)          (None, 2048)              0         \n",
            "_________________________________________________________________\n",
            "dense (Dense)                (None, 1024)              2098176   \n",
            "_________________________________________________________________\n",
            "dropout_4 (Dropout)          (None, 1024)              0         \n",
            "_________________________________________________________________\n",
            "dense_1 (Dense)              (None, 512)               524800    \n",
            "_________________________________________________________________\n",
            "dropout_5 (Dropout)          (None, 512)               0         \n",
            "_________________________________________________________________\n",
            "dense_2 (Dense)              (None, 10)                5130      \n",
            "=================================================================\n",
            "Total params: 2,915,114\n",
            "Trainable params: 2,915,114\n",
            "Non-trainable params: 0\n",
            "_________________________________________________________________\n"
          ],
          "name": "stdout"
        }
      ]
    },
    {
      "cell_type": "markdown",
      "metadata": {
        "id": "h_S6lxW_oQOL",
        "colab_type": "text"
      },
      "source": [
        "#8. fit model"
      ]
    },
    {
      "cell_type": "code",
      "metadata": {
        "id": "pIJw5dz4oJgv",
        "colab_type": "code",
        "colab": {
          "base_uri": "https://localhost:8080/",
          "height": 940
        },
        "outputId": "16f947f3-4a78-4352-c61e-eb9f0306348f"
      },
      "source": [
        "#from tensorflow.python.keras.callbacks import ModelCheckpoint\n",
        "#checkpointer = ModelCheckpoint(filepath='model.weights.cifar.hdf5', save_best_only=True, verbose=1)\n",
        "\n",
        "model.fit(x_train, y_train, validation_data=(x_test, y_test), epochs=epochs, batch_size=64)"
      ],
      "execution_count": 9,
      "outputs": [
        {
          "output_type": "stream",
          "text": [
            "Train on 50000 samples, validate on 10000 samples\n",
            "Epoch 1/25\n",
            "50000/50000 [==============================] - 12s 237us/sample - loss: 296535746.4536 - acc: 0.0967 - val_loss: 2.3027 - val_acc: 0.1000\n",
            "Epoch 2/25\n",
            "50000/50000 [==============================] - 9s 181us/sample - loss: 2.3029 - acc: 0.0986 - val_loss: 2.3027 - val_acc: 0.1000\n",
            "Epoch 3/25\n",
            "50000/50000 [==============================] - 9s 183us/sample - loss: 2.3028 - acc: 0.0993 - val_loss: 2.3027 - val_acc: 0.1000\n",
            "Epoch 4/25\n",
            "50000/50000 [==============================] - 9s 182us/sample - loss: 2.3028 - acc: 0.0984 - val_loss: 2.3027 - val_acc: 0.1000\n",
            "Epoch 5/25\n",
            "50000/50000 [==============================] - 9s 183us/sample - loss: 2.3028 - acc: 0.0991 - val_loss: 2.3026 - val_acc: 0.1000\n",
            "Epoch 6/25\n",
            "50000/50000 [==============================] - 9s 183us/sample - loss: 2.3028 - acc: 0.0962 - val_loss: 2.3026 - val_acc: 0.1000\n",
            "Epoch 7/25\n",
            "50000/50000 [==============================] - 9s 181us/sample - loss: 2.3028 - acc: 0.0968 - val_loss: 2.3026 - val_acc: 0.1000\n",
            "Epoch 8/25\n",
            "50000/50000 [==============================] - 9s 181us/sample - loss: 2.3027 - acc: 0.0990 - val_loss: 2.3026 - val_acc: 0.1000\n",
            "Epoch 9/25\n",
            "50000/50000 [==============================] - 9s 181us/sample - loss: 2.3027 - acc: 0.0990 - val_loss: 2.3026 - val_acc: 0.1000\n",
            "Epoch 10/25\n",
            "50000/50000 [==============================] - 9s 181us/sample - loss: 2.3027 - acc: 0.0968 - val_loss: 2.3026 - val_acc: 0.1000\n",
            "Epoch 11/25\n",
            "50000/50000 [==============================] - 9s 180us/sample - loss: 2.3027 - acc: 0.0980 - val_loss: 2.3026 - val_acc: 0.1000\n",
            "Epoch 12/25\n",
            "50000/50000 [==============================] - 9s 181us/sample - loss: 2.3027 - acc: 0.0993 - val_loss: 2.3026 - val_acc: 0.1000\n",
            "Epoch 13/25\n",
            "50000/50000 [==============================] - 9s 181us/sample - loss: 2.3027 - acc: 0.0965 - val_loss: 2.3026 - val_acc: 0.1000\n",
            "Epoch 14/25\n",
            "50000/50000 [==============================] - 9s 181us/sample - loss: 2.3027 - acc: 0.0964 - val_loss: 2.3026 - val_acc: 0.1000\n",
            "Epoch 15/25\n",
            "50000/50000 [==============================] - 9s 181us/sample - loss: 2.3027 - acc: 0.0994 - val_loss: 2.3026 - val_acc: 0.1000\n",
            "Epoch 16/25\n",
            "50000/50000 [==============================] - 9s 181us/sample - loss: 2.3027 - acc: 0.0962 - val_loss: 2.3026 - val_acc: 0.1000\n",
            "Epoch 17/25\n",
            "50000/50000 [==============================] - 9s 182us/sample - loss: 2.3027 - acc: 0.0977 - val_loss: 2.3026 - val_acc: 0.1000\n",
            "Epoch 18/25\n",
            "50000/50000 [==============================] - 9s 181us/sample - loss: 2.3027 - acc: 0.0966 - val_loss: 2.3026 - val_acc: 0.1000\n",
            "Epoch 19/25\n",
            "50000/50000 [==============================] - 9s 180us/sample - loss: 2.3027 - acc: 0.0976 - val_loss: 2.3026 - val_acc: 0.1000\n",
            "Epoch 20/25\n",
            "50000/50000 [==============================] - 9s 181us/sample - loss: 2.3027 - acc: 0.0955 - val_loss: 2.3026 - val_acc: 0.1000\n",
            "Epoch 21/25\n",
            "50000/50000 [==============================] - 9s 181us/sample - loss: 2.3027 - acc: 0.0984 - val_loss: 2.3026 - val_acc: 0.1000\n",
            "Epoch 22/25\n",
            "50000/50000 [==============================] - 9s 181us/sample - loss: 2.3027 - acc: 0.0952 - val_loss: 2.3026 - val_acc: 0.1000\n",
            "Epoch 23/25\n",
            "50000/50000 [==============================] - 9s 181us/sample - loss: 2.3027 - acc: 0.0982 - val_loss: 2.3026 - val_acc: 0.1000\n",
            "Epoch 24/25\n",
            "50000/50000 [==============================] - 9s 180us/sample - loss: 2.3027 - acc: 0.0973 - val_loss: 2.3026 - val_acc: 0.1000\n",
            "Epoch 25/25\n",
            "50000/50000 [==============================] - 9s 182us/sample - loss: 2.3026 - acc: 0.0986 - val_loss: 2.3026 - val_acc: 0.1000\n"
          ],
          "name": "stdout"
        },
        {
          "output_type": "execute_result",
          "data": {
            "text/plain": [
              "<tensorflow.python.keras.callbacks.History at 0x7f821a6be390>"
            ]
          },
          "metadata": {
            "tags": []
          },
          "execution_count": 9
        }
      ]
    },
    {
      "cell_type": "code",
      "metadata": {
        "id": "ePhJDcdwodr3",
        "colab_type": "code",
        "colab": {}
      },
      "source": [
        ""
      ],
      "execution_count": 0,
      "outputs": []
    }
  ]
}